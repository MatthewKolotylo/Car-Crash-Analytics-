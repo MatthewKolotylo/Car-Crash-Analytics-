{
 "cells": [
  {
   "cell_type": "code",
   "execution_count": 1,
   "metadata": {},
   "outputs": [
    {
     "name": "stdout",
     "output_type": "stream",
     "text": [
      "Collecting fredapi\n",
      "  Obtaining dependency information for fredapi from https://files.pythonhosted.org/packages/96/d4/f81fa9f67775a6a4b9e2cd8487239d61a9698cb2b9c02a5a2897d310f7a4/fredapi-0.5.1-py3-none-any.whl.metadata\n",
      "  Downloading fredapi-0.5.1-py3-none-any.whl.metadata (5.0 kB)\n",
      "Requirement already satisfied: pandas in c:\\users\\jkolo\\appdata\\local\\programs\\python\\python312\\lib\\site-packages (from fredapi) (2.1.3)\n",
      "Requirement already satisfied: numpy<2,>=1.26.0 in c:\\users\\jkolo\\appdata\\local\\programs\\python\\python312\\lib\\site-packages (from pandas->fredapi) (1.26.2)\n",
      "Requirement already satisfied: python-dateutil>=2.8.2 in c:\\users\\jkolo\\appdata\\roaming\\python\\python312\\site-packages (from pandas->fredapi) (2.8.2)\n",
      "Requirement already satisfied: pytz>=2020.1 in c:\\users\\jkolo\\appdata\\local\\programs\\python\\python312\\lib\\site-packages (from pandas->fredapi) (2023.3.post1)\n",
      "Requirement already satisfied: tzdata>=2022.1 in c:\\users\\jkolo\\appdata\\local\\programs\\python\\python312\\lib\\site-packages (from pandas->fredapi) (2023.3)\n",
      "Requirement already satisfied: six>=1.5 in c:\\users\\jkolo\\appdata\\roaming\\python\\python312\\site-packages (from python-dateutil>=2.8.2->pandas->fredapi) (1.16.0)\n",
      "Downloading fredapi-0.5.1-py3-none-any.whl (11 kB)\n",
      "Installing collected packages: fredapi\n",
      "Successfully installed fredapi-0.5.1\n"
     ]
    },
    {
     "name": "stderr",
     "output_type": "stream",
     "text": [
      "\n",
      "[notice] A new release of pip is available: 23.2.1 -> 23.3.1\n",
      "[notice] To update, run: python.exe -m pip install --upgrade pip\n"
     ]
    }
   ],
   "source": [
    "#Use this code block for all of the required installations\n",
    "!pip install fredapi"
   ]
  },
  {
   "cell_type": "code",
   "execution_count": 4,
   "metadata": {},
   "outputs": [],
   "source": [
    "import pandas as pd\n",
    "import numpy as np\n",
    "import opendatasets as od\n",
    "import matplotlib.pyplot as plt\n",
    "from fredapi import Fred\n"
   ]
  },
  {
   "cell_type": "code",
   "execution_count": null,
   "metadata": {},
   "outputs": [],
   "source": []
  },
  {
   "cell_type": "markdown",
   "metadata": {},
   "source": [
    "https://www.kaggle.com/datasets/sobhanmoosavi/us-accidents/data"
   ]
  },
  {
   "cell_type": "code",
   "execution_count": 7,
   "metadata": {},
   "outputs": [],
   "source": [
    "dbg = True"
   ]
  },
  {
   "cell_type": "code",
   "execution_count": null,
   "metadata": {},
   "outputs": [],
   "source": [
    "#mental note download from kaggle\n",
    "https://jovian.com/blog/tutorials/%20kaggle-opendatasets\n",
    "https://www.youtube.com/watch?v=7Jgur9q2ZVk\n"
   ]
  },
  {
   "cell_type": "code",
   "execution_count": 8,
   "metadata": {},
   "outputs": [
    {
     "name": "stdout",
     "output_type": "stream",
     "text": [
      "Please provide your Kaggle credentials to download this dataset. Learn more: http://bit.ly/kaggle-creds\n",
      "Your Kaggle username:Your Kaggle username:Your Kaggle username:Your Kaggle username:Your Kaggle username:Your Kaggle username:Your Kaggle username:Your Kaggle username:Your Kaggle username:Your Kaggle Key:"
     ]
    },
    {
     "ename": "KeyError",
     "evalue": "'content-length'",
     "output_type": "error",
     "traceback": [
      "\u001b[1;31m---------------------------------------------------------------------------\u001b[0m",
      "\u001b[1;31mKeyError\u001b[0m                                  Traceback (most recent call last)",
      "\u001b[1;32mc:\\Users\\jkolo\\OneDrive\\Documents\\GitHub\\Car-Crash-Analytics-\\Project Master Copy.ipynb Cell 7\u001b[0m line \u001b[0;36m2\n\u001b[0;32m      <a href='vscode-notebook-cell:/c%3A/Users/jkolo/OneDrive/Documents/GitHub/Car-Crash-Analytics-/Project%20Master%20Copy.ipynb#W3sZmlsZQ%3D%3D?line=0'>1</a>\u001b[0m data_url\u001b[39m=\u001b[39m\u001b[39m'\u001b[39m\u001b[39mhttps://www.kaggle.com/datasets/sobhanmoosavi/us-accidents\u001b[39m\u001b[39m'\u001b[39m\n\u001b[1;32m----> <a href='vscode-notebook-cell:/c%3A/Users/jkolo/OneDrive/Documents/GitHub/Car-Crash-Analytics-/Project%20Master%20Copy.ipynb#W3sZmlsZQ%3D%3D?line=1'>2</a>\u001b[0m od\u001b[39m.\u001b[39;49mdownload(data_url, force\u001b[39m=\u001b[39;49m\u001b[39mTrue\u001b[39;49;00m)\n\u001b[0;32m      <a href='vscode-notebook-cell:/c%3A/Users/jkolo/OneDrive/Documents/GitHub/Car-Crash-Analytics-/Project%20Master%20Copy.ipynb#W3sZmlsZQ%3D%3D?line=3'>4</a>\u001b[0m \u001b[39m#note use username and key in slack chat\u001b[39;00m\n",
      "File \u001b[1;32mc:\\Users\\jkolo\\AppData\\Local\\Programs\\Python\\Python312\\Lib\\site-packages\\opendatasets\\__init__.py:13\u001b[0m, in \u001b[0;36mdownload\u001b[1;34m(dataset_id_or_url, data_dir, force, dry_run, **kwargs)\u001b[0m\n\u001b[0;32m     10\u001b[0m \u001b[39mdef\u001b[39;00m \u001b[39mdownload\u001b[39m(dataset_id_or_url, data_dir\u001b[39m=\u001b[39m\u001b[39m'\u001b[39m\u001b[39m.\u001b[39m\u001b[39m'\u001b[39m, force\u001b[39m=\u001b[39m\u001b[39mFalse\u001b[39;00m, dry_run\u001b[39m=\u001b[39m\u001b[39mFalse\u001b[39;00m, \u001b[39m*\u001b[39m\u001b[39m*\u001b[39mkwargs):\n\u001b[0;32m     11\u001b[0m     \u001b[39m# Check for a Kaggle dataset URL\u001b[39;00m\n\u001b[0;32m     12\u001b[0m     \u001b[39mif\u001b[39;00m is_kaggle_url(dataset_id_or_url):\n\u001b[1;32m---> 13\u001b[0m         \u001b[39mreturn\u001b[39;00m download_kaggle_dataset(dataset_id_or_url, data_dir\u001b[39m=\u001b[39;49mdata_dir, force\u001b[39m=\u001b[39;49mforce, dry_run\u001b[39m=\u001b[39;49mdry_run)\n\u001b[0;32m     15\u001b[0m     \u001b[39m# Check for Google Drive URL\u001b[39;00m\n\u001b[0;32m     16\u001b[0m     \u001b[39mif\u001b[39;00m is_google_drive_url(dataset_id_or_url):\n",
      "File \u001b[1;32mc:\\Users\\jkolo\\AppData\\Local\\Programs\\Python\\Python312\\Lib\\site-packages\\opendatasets\\utils\\kaggle_api.py:65\u001b[0m, in \u001b[0;36mdownload_kaggle_dataset\u001b[1;34m(dataset_url, data_dir, force, dry_run)\u001b[0m\n\u001b[0;32m     63\u001b[0m             \u001b[39mprint\u001b[39m(\u001b[39m'\u001b[39m\u001b[39mCould not delete zip file, got\u001b[39m\u001b[39m'\u001b[39m \u001b[39m+\u001b[39m \u001b[39mstr\u001b[39m(e))\n\u001b[0;32m     64\u001b[0m     \u001b[39melse\u001b[39;00m:\n\u001b[1;32m---> 65\u001b[0m         api\u001b[39m.\u001b[39;49mdataset_download_files(\n\u001b[0;32m     66\u001b[0m             dataset_id,\n\u001b[0;32m     67\u001b[0m             target_dir,\n\u001b[0;32m     68\u001b[0m             force\u001b[39m=\u001b[39;49mforce,\n\u001b[0;32m     69\u001b[0m             quiet\u001b[39m=\u001b[39;49m\u001b[39mFalse\u001b[39;49;00m,\n\u001b[0;32m     70\u001b[0m             unzip\u001b[39m=\u001b[39;49m\u001b[39mTrue\u001b[39;49;00m)\n\u001b[0;32m     72\u001b[0m \u001b[39melse\u001b[39;00m:\n\u001b[0;32m     73\u001b[0m     \u001b[39mprint\u001b[39m(\u001b[39m\"\u001b[39m\u001b[39mThis is a dry run, skipping..\u001b[39m\u001b[39m\"\u001b[39m)\n",
      "File \u001b[1;32mc:\\Users\\jkolo\\AppData\\Local\\Programs\\Python\\Python312\\Lib\\site-packages\\kaggle\\api\\kaggle_api_extended.py:1447\u001b[0m, in \u001b[0;36mKaggleApi.dataset_download_files\u001b[1;34m(self, dataset, path, force, quiet, unzip)\u001b[0m\n\u001b[0;32m   1445\u001b[0m outfile \u001b[39m=\u001b[39m os\u001b[39m.\u001b[39mpath\u001b[39m.\u001b[39mjoin(effective_path, dataset_slug \u001b[39m+\u001b[39m \u001b[39m'\u001b[39m\u001b[39m.zip\u001b[39m\u001b[39m'\u001b[39m)\n\u001b[0;32m   1446\u001b[0m \u001b[39mif\u001b[39;00m force \u001b[39mor\u001b[39;00m \u001b[39mself\u001b[39m\u001b[39m.\u001b[39mdownload_needed(response, outfile, quiet):\n\u001b[1;32m-> 1447\u001b[0m     \u001b[39mself\u001b[39;49m\u001b[39m.\u001b[39;49mdownload_file(response, outfile, quiet, \u001b[39mnot\u001b[39;49;00m force)\n\u001b[0;32m   1448\u001b[0m     downloaded \u001b[39m=\u001b[39m \u001b[39mTrue\u001b[39;00m\n\u001b[0;32m   1449\u001b[0m \u001b[39melse\u001b[39;00m:\n",
      "File \u001b[1;32mc:\\Users\\jkolo\\AppData\\Local\\Programs\\Python\\Python312\\Lib\\site-packages\\kaggle\\api\\kaggle_api_extended.py:1834\u001b[0m, in \u001b[0;36mKaggleApi.download_file\u001b[1;34m(self, response, outfile, quiet, resume, chunk_size)\u001b[0m\n\u001b[0;32m   1832\u001b[0m \u001b[39mif\u001b[39;00m \u001b[39mnot\u001b[39;00m os\u001b[39m.\u001b[39mpath\u001b[39m.\u001b[39mexists(outpath):\n\u001b[0;32m   1833\u001b[0m     os\u001b[39m.\u001b[39mmakedirs(outpath)\n\u001b[1;32m-> 1834\u001b[0m size \u001b[39m=\u001b[39m \u001b[39mint\u001b[39m(response\u001b[39m.\u001b[39;49mheaders[\u001b[39m'\u001b[39;49m\u001b[39mContent-Length\u001b[39;49m\u001b[39m'\u001b[39;49m])\n\u001b[0;32m   1835\u001b[0m size_read \u001b[39m=\u001b[39m \u001b[39m0\u001b[39m\n\u001b[0;32m   1836\u001b[0m open_mode \u001b[39m=\u001b[39m \u001b[39m'\u001b[39m\u001b[39mwb\u001b[39m\u001b[39m'\u001b[39m\n",
      "File \u001b[1;32mc:\\Users\\jkolo\\AppData\\Local\\Programs\\Python\\Python312\\Lib\\site-packages\\urllib3\\_collections.py:260\u001b[0m, in \u001b[0;36mHTTPHeaderDict.__getitem__\u001b[1;34m(self, key)\u001b[0m\n\u001b[0;32m    259\u001b[0m \u001b[39mdef\u001b[39;00m \u001b[39m__getitem__\u001b[39m(\u001b[39mself\u001b[39m, key: \u001b[39mstr\u001b[39m) \u001b[39m-\u001b[39m\u001b[39m>\u001b[39m \u001b[39mstr\u001b[39m:\n\u001b[1;32m--> 260\u001b[0m     val \u001b[39m=\u001b[39m \u001b[39mself\u001b[39;49m\u001b[39m.\u001b[39;49m_container[key\u001b[39m.\u001b[39;49mlower()]\n\u001b[0;32m    261\u001b[0m     \u001b[39mreturn\u001b[39;00m \u001b[39m\"\u001b[39m\u001b[39m, \u001b[39m\u001b[39m\"\u001b[39m\u001b[39m.\u001b[39mjoin(val[\u001b[39m1\u001b[39m:])\n",
      "\u001b[1;31mKeyError\u001b[0m: 'content-length'"
     ]
    }
   ],
   "source": [
    "data_url='https://www.kaggle.com/datasets/sobhanmoosavi/us-accidents'\n",
    "od.download(data_url, force=True)\n",
    "\n",
    "#note use username and key in slack chat\n"
   ]
  },
  {
   "cell_type": "code",
   "execution_count": 9,
   "metadata": {},
   "outputs": [
    {
     "data": {
      "text/plain": [
       "['US_Accidents_March23.csv']"
      ]
     },
     "execution_count": 9,
     "metadata": {},
     "output_type": "execute_result"
    }
   ],
   "source": [
    "import os\n",
    "data_dir = r'.\\us-accidents'\n",
    "os.listdir(data_dir)\n"
   ]
  },
  {
   "cell_type": "code",
   "execution_count": 10,
   "metadata": {},
   "outputs": [],
   "source": [
    "#windows use: / mac use: \\ to open file\n",
    "data_filename=data_dir+'/US_Accidents_March23.csv'"
   ]
  },
  {
   "cell_type": "code",
   "execution_count": 11,
   "metadata": {},
   "outputs": [],
   "source": [
    "if dbg:\n",
    "    car_crash_df=pd.read_csv(data_filename, nrows=200000)\n",
    "else:\n",
    "    car_crash_df=pd.read_csv(data_filename)\n"
   ]
  },
  {
   "cell_type": "code",
   "execution_count": 12,
   "metadata": {},
   "outputs": [],
   "source": [
    "df_copy = car_crash_df.copy()\n"
   ]
  },
  {
   "cell_type": "markdown",
   "metadata": {},
   "source": [
    "Exploratory Data Analysis "
   ]
  },
  {
   "cell_type": "code",
   "execution_count": 13,
   "metadata": {},
   "outputs": [
    {
     "data": {
      "text/html": [
       "<div>\n",
       "<style scoped>\n",
       "    .dataframe tbody tr th:only-of-type {\n",
       "        vertical-align: middle;\n",
       "    }\n",
       "\n",
       "    .dataframe tbody tr th {\n",
       "        vertical-align: top;\n",
       "    }\n",
       "\n",
       "    .dataframe thead th {\n",
       "        text-align: right;\n",
       "    }\n",
       "</style>\n",
       "<table border=\"1\" class=\"dataframe\">\n",
       "  <thead>\n",
       "    <tr style=\"text-align: right;\">\n",
       "      <th></th>\n",
       "      <th>ID</th>\n",
       "      <th>Source</th>\n",
       "      <th>Severity</th>\n",
       "      <th>Start_Time</th>\n",
       "      <th>End_Time</th>\n",
       "      <th>Start_Lat</th>\n",
       "      <th>Start_Lng</th>\n",
       "      <th>End_Lat</th>\n",
       "      <th>End_Lng</th>\n",
       "      <th>Distance(mi)</th>\n",
       "      <th>...</th>\n",
       "      <th>Roundabout</th>\n",
       "      <th>Station</th>\n",
       "      <th>Stop</th>\n",
       "      <th>Traffic_Calming</th>\n",
       "      <th>Traffic_Signal</th>\n",
       "      <th>Turning_Loop</th>\n",
       "      <th>Sunrise_Sunset</th>\n",
       "      <th>Civil_Twilight</th>\n",
       "      <th>Nautical_Twilight</th>\n",
       "      <th>Astronomical_Twilight</th>\n",
       "    </tr>\n",
       "  </thead>\n",
       "  <tbody>\n",
       "    <tr>\n",
       "      <th>0</th>\n",
       "      <td>A-1</td>\n",
       "      <td>Source2</td>\n",
       "      <td>3</td>\n",
       "      <td>2016-02-08 05:46:00</td>\n",
       "      <td>2016-02-08 11:00:00</td>\n",
       "      <td>39.865147</td>\n",
       "      <td>-84.058723</td>\n",
       "      <td>NaN</td>\n",
       "      <td>NaN</td>\n",
       "      <td>0.01</td>\n",
       "      <td>...</td>\n",
       "      <td>False</td>\n",
       "      <td>False</td>\n",
       "      <td>False</td>\n",
       "      <td>False</td>\n",
       "      <td>False</td>\n",
       "      <td>False</td>\n",
       "      <td>Night</td>\n",
       "      <td>Night</td>\n",
       "      <td>Night</td>\n",
       "      <td>Night</td>\n",
       "    </tr>\n",
       "    <tr>\n",
       "      <th>1</th>\n",
       "      <td>A-2</td>\n",
       "      <td>Source2</td>\n",
       "      <td>2</td>\n",
       "      <td>2016-02-08 06:07:59</td>\n",
       "      <td>2016-02-08 06:37:59</td>\n",
       "      <td>39.928059</td>\n",
       "      <td>-82.831184</td>\n",
       "      <td>NaN</td>\n",
       "      <td>NaN</td>\n",
       "      <td>0.01</td>\n",
       "      <td>...</td>\n",
       "      <td>False</td>\n",
       "      <td>False</td>\n",
       "      <td>False</td>\n",
       "      <td>False</td>\n",
       "      <td>False</td>\n",
       "      <td>False</td>\n",
       "      <td>Night</td>\n",
       "      <td>Night</td>\n",
       "      <td>Night</td>\n",
       "      <td>Day</td>\n",
       "    </tr>\n",
       "    <tr>\n",
       "      <th>2</th>\n",
       "      <td>A-3</td>\n",
       "      <td>Source2</td>\n",
       "      <td>2</td>\n",
       "      <td>2016-02-08 06:49:27</td>\n",
       "      <td>2016-02-08 07:19:27</td>\n",
       "      <td>39.063148</td>\n",
       "      <td>-84.032608</td>\n",
       "      <td>NaN</td>\n",
       "      <td>NaN</td>\n",
       "      <td>0.01</td>\n",
       "      <td>...</td>\n",
       "      <td>False</td>\n",
       "      <td>False</td>\n",
       "      <td>False</td>\n",
       "      <td>False</td>\n",
       "      <td>True</td>\n",
       "      <td>False</td>\n",
       "      <td>Night</td>\n",
       "      <td>Night</td>\n",
       "      <td>Day</td>\n",
       "      <td>Day</td>\n",
       "    </tr>\n",
       "    <tr>\n",
       "      <th>3</th>\n",
       "      <td>A-4</td>\n",
       "      <td>Source2</td>\n",
       "      <td>3</td>\n",
       "      <td>2016-02-08 07:23:34</td>\n",
       "      <td>2016-02-08 07:53:34</td>\n",
       "      <td>39.747753</td>\n",
       "      <td>-84.205582</td>\n",
       "      <td>NaN</td>\n",
       "      <td>NaN</td>\n",
       "      <td>0.01</td>\n",
       "      <td>...</td>\n",
       "      <td>False</td>\n",
       "      <td>False</td>\n",
       "      <td>False</td>\n",
       "      <td>False</td>\n",
       "      <td>False</td>\n",
       "      <td>False</td>\n",
       "      <td>Night</td>\n",
       "      <td>Day</td>\n",
       "      <td>Day</td>\n",
       "      <td>Day</td>\n",
       "    </tr>\n",
       "    <tr>\n",
       "      <th>4</th>\n",
       "      <td>A-5</td>\n",
       "      <td>Source2</td>\n",
       "      <td>2</td>\n",
       "      <td>2016-02-08 07:39:07</td>\n",
       "      <td>2016-02-08 08:09:07</td>\n",
       "      <td>39.627781</td>\n",
       "      <td>-84.188354</td>\n",
       "      <td>NaN</td>\n",
       "      <td>NaN</td>\n",
       "      <td>0.01</td>\n",
       "      <td>...</td>\n",
       "      <td>False</td>\n",
       "      <td>False</td>\n",
       "      <td>False</td>\n",
       "      <td>False</td>\n",
       "      <td>True</td>\n",
       "      <td>False</td>\n",
       "      <td>Day</td>\n",
       "      <td>Day</td>\n",
       "      <td>Day</td>\n",
       "      <td>Day</td>\n",
       "    </tr>\n",
       "  </tbody>\n",
       "</table>\n",
       "<p>5 rows × 46 columns</p>\n",
       "</div>"
      ],
      "text/plain": [
       "    ID   Source  Severity           Start_Time             End_Time  \\\n",
       "0  A-1  Source2         3  2016-02-08 05:46:00  2016-02-08 11:00:00   \n",
       "1  A-2  Source2         2  2016-02-08 06:07:59  2016-02-08 06:37:59   \n",
       "2  A-3  Source2         2  2016-02-08 06:49:27  2016-02-08 07:19:27   \n",
       "3  A-4  Source2         3  2016-02-08 07:23:34  2016-02-08 07:53:34   \n",
       "4  A-5  Source2         2  2016-02-08 07:39:07  2016-02-08 08:09:07   \n",
       "\n",
       "   Start_Lat  Start_Lng  End_Lat  End_Lng  Distance(mi)  ... Roundabout  \\\n",
       "0  39.865147 -84.058723      NaN      NaN          0.01  ...      False   \n",
       "1  39.928059 -82.831184      NaN      NaN          0.01  ...      False   \n",
       "2  39.063148 -84.032608      NaN      NaN          0.01  ...      False   \n",
       "3  39.747753 -84.205582      NaN      NaN          0.01  ...      False   \n",
       "4  39.627781 -84.188354      NaN      NaN          0.01  ...      False   \n",
       "\n",
       "  Station   Stop Traffic_Calming Traffic_Signal Turning_Loop Sunrise_Sunset  \\\n",
       "0   False  False           False          False        False          Night   \n",
       "1   False  False           False          False        False          Night   \n",
       "2   False  False           False           True        False          Night   \n",
       "3   False  False           False          False        False          Night   \n",
       "4   False  False           False           True        False            Day   \n",
       "\n",
       "  Civil_Twilight Nautical_Twilight Astronomical_Twilight  \n",
       "0          Night             Night                 Night  \n",
       "1          Night             Night                   Day  \n",
       "2          Night               Day                   Day  \n",
       "3            Day               Day                   Day  \n",
       "4            Day               Day                   Day  \n",
       "\n",
       "[5 rows x 46 columns]"
      ]
     },
     "execution_count": 13,
     "metadata": {},
     "output_type": "execute_result"
    }
   ],
   "source": [
    "car_crash_df.head()"
   ]
  },
  {
   "cell_type": "code",
   "execution_count": 57,
   "metadata": {},
   "outputs": [
    {
     "data": {
      "text/plain": [
       "(200000, 46)"
      ]
     },
     "execution_count": 57,
     "metadata": {},
     "output_type": "execute_result"
    }
   ],
   "source": [
    "car_crash_df.shape"
   ]
  },
  {
   "cell_type": "code",
   "execution_count": 14,
   "metadata": {},
   "outputs": [
    {
     "name": "stdout",
     "output_type": "stream",
     "text": [
      "<class 'pandas.core.frame.DataFrame'>\n",
      "RangeIndex: 200000 entries, 0 to 199999\n",
      "Data columns (total 46 columns):\n",
      " #   Column                 Non-Null Count   Dtype  \n",
      "---  ------                 --------------   -----  \n",
      " 0   ID                     200000 non-null  object \n",
      " 1   Source                 200000 non-null  object \n",
      " 2   Severity               200000 non-null  int64  \n",
      " 3   Start_Time             200000 non-null  object \n",
      " 4   End_Time               200000 non-null  object \n",
      " 5   Start_Lat              200000 non-null  float64\n",
      " 6   Start_Lng              200000 non-null  float64\n",
      " 7   End_Lat                0 non-null       float64\n",
      " 8   End_Lng                0 non-null       float64\n",
      " 9   Distance(mi)           200000 non-null  float64\n",
      " 10  Description            200000 non-null  object \n",
      " 11  Street                 200000 non-null  object \n",
      " 12  City                   199986 non-null  object \n",
      " 13  County                 200000 non-null  object \n",
      " 14  State                  200000 non-null  object \n",
      " 15  Zipcode                199970 non-null  object \n",
      " 16  Country                200000 non-null  object \n",
      " 17  Timezone               199970 non-null  object \n",
      " 18  Airport_Code           199970 non-null  object \n",
      " 19  Weather_Timestamp      198457 non-null  object \n",
      " 20  Temperature(F)         197165 non-null  float64\n",
      " 21  Wind_Chill(F)          21390 non-null   float64\n",
      " 22  Humidity(%)            196757 non-null  float64\n",
      " 23  Pressure(in)           197797 non-null  float64\n",
      " 24  Visibility(mi)         196737 non-null  float64\n",
      " 25  Wind_Direction         198444 non-null  object \n",
      " 26  Wind_Speed(mph)        161560 non-null  float64\n",
      " 27  Precipitation(in)      18352 non-null   float64\n",
      " 28  Weather_Condition      197212 non-null  object \n",
      " 29  Amenity                200000 non-null  bool   \n",
      " 30  Bump                   200000 non-null  bool   \n",
      " 31  Crossing               200000 non-null  bool   \n",
      " 32  Give_Way               200000 non-null  bool   \n",
      " 33  Junction               200000 non-null  bool   \n",
      " 34  No_Exit                200000 non-null  bool   \n",
      " 35  Railway                200000 non-null  bool   \n",
      " 36  Roundabout             200000 non-null  bool   \n",
      " 37  Station                200000 non-null  bool   \n",
      " 38  Stop                   200000 non-null  bool   \n",
      " 39  Traffic_Calming        200000 non-null  bool   \n",
      " 40  Traffic_Signal         200000 non-null  bool   \n",
      " 41  Turning_Loop           200000 non-null  bool   \n",
      " 42  Sunrise_Sunset         199986 non-null  object \n",
      " 43  Civil_Twilight         199986 non-null  object \n",
      " 44  Nautical_Twilight      199986 non-null  object \n",
      " 45  Astronomical_Twilight  199986 non-null  object \n",
      "dtypes: bool(13), float64(12), int64(1), object(20)\n",
      "memory usage: 52.8+ MB\n"
     ]
    }
   ],
   "source": [
    "car_crash_df.info()"
   ]
  },
  {
   "cell_type": "code",
   "execution_count": 59,
   "metadata": {},
   "outputs": [
    {
     "data": {
      "text/html": [
       "<div>\n",
       "<style scoped>\n",
       "    .dataframe tbody tr th:only-of-type {\n",
       "        vertical-align: middle;\n",
       "    }\n",
       "\n",
       "    .dataframe tbody tr th {\n",
       "        vertical-align: top;\n",
       "    }\n",
       "\n",
       "    .dataframe thead th {\n",
       "        text-align: right;\n",
       "    }\n",
       "</style>\n",
       "<table border=\"1\" class=\"dataframe\">\n",
       "  <thead>\n",
       "    <tr style=\"text-align: right;\">\n",
       "      <th></th>\n",
       "      <th>Severity</th>\n",
       "      <th>Start_Lat</th>\n",
       "      <th>Start_Lng</th>\n",
       "      <th>End_Lat</th>\n",
       "      <th>End_Lng</th>\n",
       "      <th>Distance(mi)</th>\n",
       "      <th>Temperature(F)</th>\n",
       "      <th>Wind_Chill(F)</th>\n",
       "      <th>Humidity(%)</th>\n",
       "      <th>Pressure(in)</th>\n",
       "      <th>Visibility(mi)</th>\n",
       "      <th>Wind_Speed(mph)</th>\n",
       "      <th>Precipitation(in)</th>\n",
       "    </tr>\n",
       "  </thead>\n",
       "  <tbody>\n",
       "    <tr>\n",
       "      <th>count</th>\n",
       "      <td>200000.000000</td>\n",
       "      <td>200000.000000</td>\n",
       "      <td>200000.000000</td>\n",
       "      <td>0.0</td>\n",
       "      <td>0.0</td>\n",
       "      <td>200000.000000</td>\n",
       "      <td>197165.00000</td>\n",
       "      <td>21390.000000</td>\n",
       "      <td>196757.000000</td>\n",
       "      <td>197797.000000</td>\n",
       "      <td>196737.000000</td>\n",
       "      <td>161560.000000</td>\n",
       "      <td>18352.000000</td>\n",
       "    </tr>\n",
       "    <tr>\n",
       "      <th>mean</th>\n",
       "      <td>2.410060</td>\n",
       "      <td>35.402579</td>\n",
       "      <td>-104.355926</td>\n",
       "      <td>NaN</td>\n",
       "      <td>NaN</td>\n",
       "      <td>0.033965</td>\n",
       "      <td>65.68728</td>\n",
       "      <td>30.399621</td>\n",
       "      <td>63.903195</td>\n",
       "      <td>30.001038</td>\n",
       "      <td>9.281449</td>\n",
       "      <td>8.512051</td>\n",
       "      <td>0.057414</td>\n",
       "    </tr>\n",
       "    <tr>\n",
       "      <th>std</th>\n",
       "      <td>0.494724</td>\n",
       "      <td>4.582634</td>\n",
       "      <td>17.870632</td>\n",
       "      <td>NaN</td>\n",
       "      <td>NaN</td>\n",
       "      <td>0.535451</td>\n",
       "      <td>16.43741</td>\n",
       "      <td>19.850108</td>\n",
       "      <td>21.603255</td>\n",
       "      <td>0.271988</td>\n",
       "      <td>1.991511</td>\n",
       "      <td>6.313318</td>\n",
       "      <td>0.493516</td>\n",
       "    </tr>\n",
       "    <tr>\n",
       "      <th>min</th>\n",
       "      <td>1.000000</td>\n",
       "      <td>25.433098</td>\n",
       "      <td>-123.813927</td>\n",
       "      <td>NaN</td>\n",
       "      <td>NaN</td>\n",
       "      <td>0.000000</td>\n",
       "      <td>-13.00000</td>\n",
       "      <td>-29.300000</td>\n",
       "      <td>4.000000</td>\n",
       "      <td>0.120000</td>\n",
       "      <td>0.000000</td>\n",
       "      <td>0.000000</td>\n",
       "      <td>0.000000</td>\n",
       "    </tr>\n",
       "    <tr>\n",
       "      <th>25%</th>\n",
       "      <td>2.000000</td>\n",
       "      <td>33.754379</td>\n",
       "      <td>-118.437279</td>\n",
       "      <td>NaN</td>\n",
       "      <td>NaN</td>\n",
       "      <td>0.000000</td>\n",
       "      <td>57.00000</td>\n",
       "      <td>19.200000</td>\n",
       "      <td>50.000000</td>\n",
       "      <td>29.910000</td>\n",
       "      <td>10.000000</td>\n",
       "      <td>5.000000</td>\n",
       "      <td>0.000000</td>\n",
       "    </tr>\n",
       "    <tr>\n",
       "      <th>50%</th>\n",
       "      <td>2.000000</td>\n",
       "      <td>34.120522</td>\n",
       "      <td>-117.370598</td>\n",
       "      <td>NaN</td>\n",
       "      <td>NaN</td>\n",
       "      <td>0.000000</td>\n",
       "      <td>66.90000</td>\n",
       "      <td>30.300000</td>\n",
       "      <td>66.000000</td>\n",
       "      <td>30.000000</td>\n",
       "      <td>10.000000</td>\n",
       "      <td>8.100000</td>\n",
       "      <td>0.000000</td>\n",
       "    </tr>\n",
       "    <tr>\n",
       "      <th>75%</th>\n",
       "      <td>3.000000</td>\n",
       "      <td>38.514824</td>\n",
       "      <td>-83.764334</td>\n",
       "      <td>NaN</td>\n",
       "      <td>NaN</td>\n",
       "      <td>0.010000</td>\n",
       "      <td>77.00000</td>\n",
       "      <td>38.800000</td>\n",
       "      <td>81.000000</td>\n",
       "      <td>30.100000</td>\n",
       "      <td>10.000000</td>\n",
       "      <td>10.400000</td>\n",
       "      <td>0.030000</td>\n",
       "    </tr>\n",
       "    <tr>\n",
       "      <th>max</th>\n",
       "      <td>4.000000</td>\n",
       "      <td>44.895218</td>\n",
       "      <td>-70.590034</td>\n",
       "      <td>NaN</td>\n",
       "      <td>NaN</td>\n",
       "      <td>80.890000</td>\n",
       "      <td>132.60000</td>\n",
       "      <td>111.000000</td>\n",
       "      <td>100.000000</td>\n",
       "      <td>33.040000</td>\n",
       "      <td>80.000000</td>\n",
       "      <td>822.800000</td>\n",
       "      <td>10.140000</td>\n",
       "    </tr>\n",
       "  </tbody>\n",
       "</table>\n",
       "</div>"
      ],
      "text/plain": [
       "            Severity      Start_Lat      Start_Lng  End_Lat  End_Lng  \\\n",
       "count  200000.000000  200000.000000  200000.000000      0.0      0.0   \n",
       "mean        2.410060      35.402579    -104.355926      NaN      NaN   \n",
       "std         0.494724       4.582634      17.870632      NaN      NaN   \n",
       "min         1.000000      25.433098    -123.813927      NaN      NaN   \n",
       "25%         2.000000      33.754379    -118.437279      NaN      NaN   \n",
       "50%         2.000000      34.120522    -117.370598      NaN      NaN   \n",
       "75%         3.000000      38.514824     -83.764334      NaN      NaN   \n",
       "max         4.000000      44.895218     -70.590034      NaN      NaN   \n",
       "\n",
       "        Distance(mi)  Temperature(F)  Wind_Chill(F)    Humidity(%)  \\\n",
       "count  200000.000000    197165.00000   21390.000000  196757.000000   \n",
       "mean        0.033965        65.68728      30.399621      63.903195   \n",
       "std         0.535451        16.43741      19.850108      21.603255   \n",
       "min         0.000000       -13.00000     -29.300000       4.000000   \n",
       "25%         0.000000        57.00000      19.200000      50.000000   \n",
       "50%         0.000000        66.90000      30.300000      66.000000   \n",
       "75%         0.010000        77.00000      38.800000      81.000000   \n",
       "max        80.890000       132.60000     111.000000     100.000000   \n",
       "\n",
       "        Pressure(in)  Visibility(mi)  Wind_Speed(mph)  Precipitation(in)  \n",
       "count  197797.000000   196737.000000    161560.000000       18352.000000  \n",
       "mean       30.001038        9.281449         8.512051           0.057414  \n",
       "std         0.271988        1.991511         6.313318           0.493516  \n",
       "min         0.120000        0.000000         0.000000           0.000000  \n",
       "25%        29.910000       10.000000         5.000000           0.000000  \n",
       "50%        30.000000       10.000000         8.100000           0.000000  \n",
       "75%        30.100000       10.000000        10.400000           0.030000  \n",
       "max        33.040000       80.000000       822.800000          10.140000  "
      ]
     },
     "execution_count": 59,
     "metadata": {},
     "output_type": "execute_result"
    }
   ],
   "source": [
    "car_crash_df.describe()"
   ]
  },
  {
   "cell_type": "code",
   "execution_count": 60,
   "metadata": {},
   "outputs": [
    {
     "data": {
      "text/plain": [
       "Index(['ID', 'Source', 'Severity', 'Start_Time', 'End_Time', 'Start_Lat',\n",
       "       'Start_Lng', 'End_Lat', 'End_Lng', 'Distance(mi)', 'Description',\n",
       "       'Street', 'City', 'County', 'State', 'Zipcode', 'Country', 'Timezone',\n",
       "       'Airport_Code', 'Weather_Timestamp', 'Temperature(F)', 'Wind_Chill(F)',\n",
       "       'Humidity(%)', 'Pressure(in)', 'Visibility(mi)', 'Wind_Direction',\n",
       "       'Wind_Speed(mph)', 'Precipitation(in)', 'Weather_Condition', 'Amenity',\n",
       "       'Bump', 'Crossing', 'Give_Way', 'Junction', 'No_Exit', 'Railway',\n",
       "       'Roundabout', 'Station', 'Stop', 'Traffic_Calming', 'Traffic_Signal',\n",
       "       'Turning_Loop', 'Sunrise_Sunset', 'Civil_Twilight', 'Nautical_Twilight',\n",
       "       'Astronomical_Twilight'],\n",
       "      dtype='object')"
      ]
     },
     "execution_count": 60,
     "metadata": {},
     "output_type": "execute_result"
    }
   ],
   "source": [
    "car_crash_df.columns"
   ]
  },
  {
   "cell_type": "code",
   "execution_count": 61,
   "metadata": {},
   "outputs": [
    {
     "data": {
      "text/plain": [
       "ID                         0.0000\n",
       "Source                     0.0000\n",
       "Severity                   0.0000\n",
       "Start_Time                 0.0000\n",
       "End_Time                   0.0000\n",
       "Start_Lat                  0.0000\n",
       "Start_Lng                  0.0000\n",
       "End_Lat                  100.0000\n",
       "End_Lng                  100.0000\n",
       "Distance(mi)               0.0000\n",
       "Description                0.0000\n",
       "Street                     0.0000\n",
       "City                       0.0070\n",
       "County                     0.0000\n",
       "State                      0.0000\n",
       "Zipcode                    0.0150\n",
       "Country                    0.0000\n",
       "Timezone                   0.0150\n",
       "Airport_Code               0.0150\n",
       "Weather_Timestamp          0.7715\n",
       "Temperature(F)             1.4175\n",
       "Wind_Chill(F)             89.3050\n",
       "Humidity(%)                1.6215\n",
       "Pressure(in)               1.1015\n",
       "Visibility(mi)             1.6315\n",
       "Wind_Direction             0.7780\n",
       "Wind_Speed(mph)           19.2200\n",
       "Precipitation(in)         90.8240\n",
       "Weather_Condition          1.3940\n",
       "Amenity                    0.0000\n",
       "Bump                       0.0000\n",
       "Crossing                   0.0000\n",
       "Give_Way                   0.0000\n",
       "Junction                   0.0000\n",
       "No_Exit                    0.0000\n",
       "Railway                    0.0000\n",
       "Roundabout                 0.0000\n",
       "Station                    0.0000\n",
       "Stop                       0.0000\n",
       "Traffic_Calming            0.0000\n",
       "Traffic_Signal             0.0000\n",
       "Turning_Loop               0.0000\n",
       "Sunrise_Sunset             0.0070\n",
       "Civil_Twilight             0.0070\n",
       "Nautical_Twilight          0.0070\n",
       "Astronomical_Twilight      0.0070\n",
       "dtype: float64"
      ]
     },
     "execution_count": 61,
     "metadata": {},
     "output_type": "execute_result"
    }
   ],
   "source": [
    "missing_percentage = car_crash_df.isna().mean() * 100\n",
    "missing_percentage"
   ]
  },
  {
   "cell_type": "code",
   "execution_count": 62,
   "metadata": {},
   "outputs": [],
   "source": [
    "#dropping columns with more than 20% missing values\n",
    "car_crash_df=car_crash_df.drop(columns=['End_Lat','End_Lng','Wind_Chill(F)','Precipitation(in)'])\n"
   ]
  },
  {
   "cell_type": "code",
   "execution_count": 63,
   "metadata": {},
   "outputs": [
    {
     "data": {
      "text/plain": [
       "ID                        0.0000\n",
       "Source                    0.0000\n",
       "Severity                  0.0000\n",
       "Start_Time                0.0000\n",
       "End_Time                  0.0000\n",
       "Start_Lat                 0.0000\n",
       "Start_Lng                 0.0000\n",
       "Distance(mi)              0.0000\n",
       "Description               0.0000\n",
       "Street                    0.0000\n",
       "City                      0.0070\n",
       "County                    0.0000\n",
       "State                     0.0000\n",
       "Zipcode                   0.0150\n",
       "Country                   0.0000\n",
       "Timezone                  0.0150\n",
       "Airport_Code              0.0150\n",
       "Weather_Timestamp         0.7715\n",
       "Temperature(F)            1.4175\n",
       "Humidity(%)               1.6215\n",
       "Pressure(in)              1.1015\n",
       "Visibility(mi)            1.6315\n",
       "Wind_Direction            0.7780\n",
       "Wind_Speed(mph)          19.2200\n",
       "Weather_Condition         1.3940\n",
       "Amenity                   0.0000\n",
       "Bump                      0.0000\n",
       "Crossing                  0.0000\n",
       "Give_Way                  0.0000\n",
       "Junction                  0.0000\n",
       "No_Exit                   0.0000\n",
       "Railway                   0.0000\n",
       "Roundabout                0.0000\n",
       "Station                   0.0000\n",
       "Stop                      0.0000\n",
       "Traffic_Calming           0.0000\n",
       "Traffic_Signal            0.0000\n",
       "Turning_Loop              0.0000\n",
       "Sunrise_Sunset            0.0070\n",
       "Civil_Twilight            0.0070\n",
       "Nautical_Twilight         0.0070\n",
       "Astronomical_Twilight     0.0070\n",
       "dtype: float64"
      ]
     },
     "execution_count": 63,
     "metadata": {},
     "output_type": "execute_result"
    }
   ],
   "source": [
    "missing_percentage = car_crash_df.isna().mean() * 100\n",
    "missing_percentage"
   ]
  },
  {
   "cell_type": "code",
   "execution_count": null,
   "metadata": {},
   "outputs": [],
   "source": [
    "\n",
    "\n",
    "#thoughts\n",
    "\n",
    "#use Knn imputation for data >1, average for data <1\n",
    "#explore metadata, maybe drop columns too help with run time\n",
    "#graphs showing car accidents overtime\n",
    "\n"
   ]
  },
  {
   "cell_type": "markdown",
   "metadata": {},
   "source": []
  },
  {
   "cell_type": "code",
   "execution_count": 17,
   "metadata": {},
   "outputs": [
    {
     "data": {
      "image/png": "[encoded data removed]",
      "text/plain": [
       "<Figure size 640x480 with 1 Axes>"
      ]
     },
     "metadata": {},
     "output_type": "display_data"
    }
   ],
   "source": [
    "#5. Severity and Types of Accidents:\n",
    "#What types or severity of accidents were most common?\n",
    "\n",
    "import matplotlib.pyplot as plt\n",
    "\n",
    "severity_counts = car_crash_df['Severity'].value_counts()\n",
    "\n",
    "ax = severity_counts.plot(kind='barh')\n",
    "\n",
    "for i, v in enumerate(severity_counts):\n",
    "    ax.text(v + 10, i, str(v), color='black', fontweight='bold')\n",
    "\n",
    "plt.show()\n"
   ]
  },
  {
   "cell_type": "code",
   "execution_count": 16,
   "metadata": {},
   "outputs": [
    {
     "data": {
      "text/plain": [
       "Severity\n",
       "2    117810\n",
       "3     81906\n",
       "1       154\n",
       "4       130\n",
       "Name: count, dtype: int64"
      ]
     },
     "execution_count": 16,
     "metadata": {},
     "output_type": "execute_result"
    }
   ],
   "source": [
    "car_crash_df['Severity'].value_counts() "
   ]
  },
  {
   "cell_type": "markdown",
   "metadata": {},
   "source": [
    "Research Questions\n",
    "\n",
    "1. Geographic Factors:\n",
    "What are known hotspot locations for highway accidents?\n",
    "Which States had the most traffic accidents, and was this influenced more by population size of the State or weather patterns or by some other unknown factor?\n",
    "2. Temporal Factors:\n",
    "Since the data was collected between 2016-2023, what impact did Covid-19 have on traffic accidents?\n",
    "Did holidays or certain days/seasons lead to more accidents?\n",
    "Which years have car accidents seemed to improve or decrease in percentage?\n",
    "3. Vehicle-Related Factors:\n",
    "Are certain car manufacturers involved in more accidents than others?\n",
    "Have car accidents decreased since 2016, with the increase of technology and car manufacturing safety?\n",
    "Have car accident casualties decreased since 2016 with the increase in car manufacturing safety?\n",
    "4. Socioeconomic and Demographic Factors:\n",
    "Do various areas with low socioeconomic status and income affect car accidents in any way? (correlation between the amount or severity of accidents and income/demographics)\n",
    "FRED API - did unemployment have a positive or negative correlation with car accidents?\n",
    "5. Severity and Types of Accidents:\n",
    "What types or severity of accidents were most common?\n",
    "6. Regional Improvements:\n",
    "Which areas have improved the most since 2016 at decreasing the rate of car accidents?\n"
   ]
  }
 ],
 "metadata": {
  "kernelspec": {
   "display_name": "Python 3 (ipykernel)",
   "language": "python",
   "name": "python3"
  },
  "language_info": {
   "codemirror_mode": {
    "name": "ipython",
    "version": 3
   },
   "file_extension": ".py",
   "mimetype": "text/x-python",
   "name": "python",
   "nbconvert_exporter": "python",
   "pygments_lexer": "ipython3",
   "version": "3.12.0"
  }
 },
 "nbformat": 4,
 "nbformat_minor": 4
}
