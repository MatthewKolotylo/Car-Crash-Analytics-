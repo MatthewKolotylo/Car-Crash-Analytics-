#Use this code block for all of the required installations
!pip install fredapi
!pip install plotly



pip install ipykernel


!pip install --upgrade nbformat


!pip install opendatasets --upgrade


import pandas as pd
import numpy as np
import opendatasets as od
import matplotlib.pyplot as plt
from fredapi import Fred
import plotly.express as px









dbg = True


#mental note download from kaggle
https://jovian.com/blog/tutorials/%20kaggle-opendatasets
https://www.youtube.com/watch?v=7Jgur9q2ZVk



#ONLY NEED TO RUN THIS ONCE
data_url='https://www.kaggle.com/datasets/sobhanmoosavi/us-accidents'
od.download(data_url, force=True)

#note use username and key in slack chat



#mac version
import os
data_dir = r'./us-accidents'
os.listdir(data_dir)



#windows version
import os
data_dir = r'./us-accidents'
os.listdir(data_dir)


#windows use: / mac use: \ to open file
data_filename=data_dir+'/US_Accidents_March23.csv'


if dbg:
    car_crash_df=pd.read_csv(data_filename, nrows=200000)
else:
    car_crash_df=pd.read_csv(data_filename)



#make a copy of the dataframe
df_copy = car_crash_df.copy()







car_crash_df.head()


car_crash_df.shape


car_crash_df.info()


car_crash_df.describe()


car_crash_df.columns


missing_percentage = car_crash_df.isna().mean() * 100
missing_percentage


#dropping columns with more than 20% missing values
car_crash_df=car_crash_df.drop(columns=['End_Lat','End_Lng','Wind_Chill(F)','Precipitation(in)'])



missing_percentage = car_crash_df.isna().mean() * 100
missing_percentage


# potential columns to drop
##airport code, wearher_timestamp, amenity, give way,junction, no_exit, railway, station, stop, traffic_Calming, turning_loop,
car_crash_df=car_crash_df.drop(columns=['Airport_Code','Weather_Timestamp','Amenity','Give_Way','Junction','No_Exit','Railway','Station','Stop','Traffic_Calming','Turning_Loop'])  




car_crash_df.columns


car_crash_df["Civil_Twilight"].unique()


car_crash_df["State"].unique()




#thoughts

#use Knn imputation for data >1, average for data <1
#explore metadata, maybe drop columns too help with run time
#graphs showing car accidents overtime
#clean sunrise_sunset column




interactive_graph=px.scatter_mapbox(car_crash_df,
                    lat="Start_Lat",
                    lon="Start_Lng",
                    color="Severity",
                    zoom=3,
                    hover_name="City",
                    hover_data=["State","Temperature(F)","Humidity(%)","Pressure(in)","Visibility(mi)"],
                    title="US Accidents Map")   
interactive_graph.update_layout(mapbox_style="open-street-map")
interactive_graph.show()


#5. Severity and Types of Accidents:
#What types or severity of accidents were most common?

import matplotlib.pyplot as plt

severity_counts = car_crash_df['Severity'].value_counts()

ax = severity_counts.plot(kind='barh')

for i, v in enumerate(severity_counts):
    ax.text(v + 10, i, str(v), color='black', fontweight='bold')

plt.show()



car_crash_df['Severity'].value_counts() 





car_crash_df.head(20)


state_counts = car_crash_df['State'].value_counts()
plt.bar(state_counts.index, state_counts.values, color='skyblue')
plt.xlabel('State')
plt.ylabel('Number of Car Crashes')
plt.title('Car Crashes by State')






state_counts = car_crash_df['State'].value_counts().reset_index()
state_counts.columns = ['State', 'Number of Car Crashes']
fig = px.bar(state_counts, x='State', y='Number of Car Crashes', title='Car Crashes by State',
             labels={'Number of Car Crashes': 'Number of Car Crashes'})
fig.show()


import plotly.express as px
filtered_df = car_crash_df[car_crash_df['Severity'].isin([3, 4])]
state_counts = filtered_df['State'].value_counts().reset_index(name='Number of Car Crashes')
fig = px.bar(state_counts, x='index', y='Number of Car Crashes',
             title='Car Crashes by State for Severity 3 and 4',
             labels={'index': 'State', 'Number of Car Crashes': 'Number of Car Crashes'})
fig.show()



#How do i show number of car crashes per capita of population.
# Can we add a column called population which shows the current population of each state?






